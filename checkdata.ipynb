{
 "cells": [
  {
   "cell_type": "markdown",
   "id": "cc182d7b",
   "metadata": {},
   "source": [
    "##### Thư viện và Hàm"
   ]
  },
  {
   "cell_type": "code",
   "execution_count": 1,
   "id": "93fe6644",
   "metadata": {},
   "outputs": [],
   "source": [
    "import pandas as pd\n",
    "from datetime import datetime, timedelta\n",
    "import re\n",
    "import os\n",
    "import numpy as np"
   ]
  },
  {
   "cell_type": "code",
   "execution_count": 2,
   "id": "3c18f38d",
   "metadata": {},
   "outputs": [],
   "source": [
    "#Đọc thư mục chứa file parquet\n",
    "def Read_parquet_folder(path, from_date = 0):\n",
    "    list_file = os.listdir(path)\n",
    "    new_list = []\n",
    "    for i in range(len(list_file)):\n",
    "        if int(list_file[i][-16:-8]) >= from_date:\n",
    "            new_list.append(list_file[i])\n",
    "        \n",
    "    df = pd.DataFrame()\n",
    "    for file in new_list:\n",
    "        file_path = os.path.join(path, file)\n",
    "        df_temp = pd.read_parquet(file_path)\n",
    "        df = pd.concat([df, df_temp], ignore_index=True)\n",
    "    return df"
   ]
  },
  {
   "cell_type": "code",
   "execution_count": 3,
   "id": "8611ff7b",
   "metadata": {},
   "outputs": [],
   "source": [
    "def get_latest_date(folder_path: str, pattern: str = r\"(\\d{8})(?=\\.parquet$)\") -> str:\n",
    "    pat = re.compile(pattern, re.IGNORECASE)\n",
    "    latest_date = None\n",
    "\n",
    "    for filename in os.listdir(folder_path):\n",
    "        if filename.lower().endswith(\".parquet\"):\n",
    "            m = pat.search(filename)\n",
    "            if m:\n",
    "                d = datetime.strptime(m.group(1), \"%Y%m%d\")\n",
    "                if latest_date is None or d > latest_date:\n",
    "                    latest_date = d\n",
    "\n",
    "    if not latest_date:\n",
    "        raise ValueError(\"Không tìm thấy file phù hợp trong thư mục\")\n",
    "\n",
    "    return latest_date.strftime(\"%Y%m%d\")"
   ]
  },
  {
   "cell_type": "markdown",
   "id": "ae801c43",
   "metadata": {},
   "source": [
    "##### Code xử lí"
   ]
  },
  {
   "cell_type": "code",
   "execution_count": 4,
   "id": "0f719fcf",
   "metadata": {},
   "outputs": [
    {
     "data": {
      "application/vnd.microsoft.datawrangler.viewer.v0+json": {
       "columns": [
        {
         "name": "index",
         "rawType": "int64",
         "type": "integer"
        },
        {
         "name": "Mã siêu thị",
         "rawType": "int64",
         "type": "integer"
        },
        {
         "name": "Nhóm hàng",
         "rawType": "object",
         "type": "string"
        },
        {
         "name": "Tên sản phẩm",
         "rawType": "object",
         "type": "string"
        },
        {
         "name": "Số mua",
         "rawType": "float64",
         "type": "float"
        },
        {
         "name": "Quy cách mua",
         "rawType": "float64",
         "type": "float"
        },
        {
         "name": "Min chia",
         "rawType": "float64",
         "type": "float"
        },
        {
         "name": "Trạng thái chia hàng",
         "rawType": "object",
         "type": "string"
        },
        {
         "name": "Ngày cập nhật",
         "rawType": "object",
         "type": "string"
        }
       ],
       "ref": "83318ce8-99a5-4149-aba7-371aad0116d3",
       "rows": [
        [
         "1643987",
         "15013",
         "3900-Cá nước ngọt",
         "CÁ LÓC LÀM SẠCH",
         "1.0",
         "1.0",
         "1.0",
         "Min",
         "05-09-2025"
        ],
        [
         "1366551",
         "6403",
         "4261-Thủy Sản Chế Biến",
         "CUA ĐỒNG XAY 250GR",
         "2.0",
         "2.0",
         "2.0",
         "Min",
         "05-09-2025"
        ],
        [
         "1366733",
         "6725",
         "4261-Thủy Sản Chế Biến",
         "CUA ĐỒNG XAY 250GR",
         "2.0",
         "2.0",
         "2.0",
         "Min",
         "05-09-2025"
        ],
        [
         "1366732",
         "6725",
         "4261-Thủy Sản Chế Biến",
         "CANH KHOAI MỠ TÔM 400G",
         "1.0",
         "0.0",
         "0.0",
         "Trên min",
         "05-09-2025"
        ],
        [
         "1366727",
         "6725",
         "3899-Cá biển",
         "CÁ MÓ LÀM SẠCH",
         "1.0",
         "1.0",
         "1.0",
         "Min",
         "05-09-2025"
        ]
       ],
       "shape": {
        "columns": 8,
        "rows": 5
       }
      },
      "text/html": [
       "<div>\n",
       "<style scoped>\n",
       "    .dataframe tbody tr th:only-of-type {\n",
       "        vertical-align: middle;\n",
       "    }\n",
       "\n",
       "    .dataframe tbody tr th {\n",
       "        vertical-align: top;\n",
       "    }\n",
       "\n",
       "    .dataframe thead th {\n",
       "        text-align: right;\n",
       "    }\n",
       "</style>\n",
       "<table border=\"1\" class=\"dataframe\">\n",
       "  <thead>\n",
       "    <tr style=\"text-align: right;\">\n",
       "      <th></th>\n",
       "      <th>Mã siêu thị</th>\n",
       "      <th>Nhóm hàng</th>\n",
       "      <th>Tên sản phẩm</th>\n",
       "      <th>Số mua</th>\n",
       "      <th>Quy cách mua</th>\n",
       "      <th>Min chia</th>\n",
       "      <th>Trạng thái chia hàng</th>\n",
       "      <th>Ngày cập nhật</th>\n",
       "    </tr>\n",
       "  </thead>\n",
       "  <tbody>\n",
       "    <tr>\n",
       "      <th>1643987</th>\n",
       "      <td>15013</td>\n",
       "      <td>3900-Cá nước ngọt</td>\n",
       "      <td>CÁ LÓC LÀM SẠCH</td>\n",
       "      <td>1.0</td>\n",
       "      <td>1.0</td>\n",
       "      <td>1.0</td>\n",
       "      <td>Min</td>\n",
       "      <td>05-09-2025</td>\n",
       "    </tr>\n",
       "    <tr>\n",
       "      <th>1366551</th>\n",
       "      <td>6403</td>\n",
       "      <td>4261-Thủy Sản Chế Biến</td>\n",
       "      <td>CUA ĐỒNG XAY 250GR</td>\n",
       "      <td>2.0</td>\n",
       "      <td>2.0</td>\n",
       "      <td>2.0</td>\n",
       "      <td>Min</td>\n",
       "      <td>05-09-2025</td>\n",
       "    </tr>\n",
       "    <tr>\n",
       "      <th>1366733</th>\n",
       "      <td>6725</td>\n",
       "      <td>4261-Thủy Sản Chế Biến</td>\n",
       "      <td>CUA ĐỒNG XAY 250GR</td>\n",
       "      <td>2.0</td>\n",
       "      <td>2.0</td>\n",
       "      <td>2.0</td>\n",
       "      <td>Min</td>\n",
       "      <td>05-09-2025</td>\n",
       "    </tr>\n",
       "    <tr>\n",
       "      <th>1366732</th>\n",
       "      <td>6725</td>\n",
       "      <td>4261-Thủy Sản Chế Biến</td>\n",
       "      <td>CANH KHOAI MỠ TÔM 400G</td>\n",
       "      <td>1.0</td>\n",
       "      <td>0.0</td>\n",
       "      <td>0.0</td>\n",
       "      <td>Trên min</td>\n",
       "      <td>05-09-2025</td>\n",
       "    </tr>\n",
       "    <tr>\n",
       "      <th>1366727</th>\n",
       "      <td>6725</td>\n",
       "      <td>3899-Cá biển</td>\n",
       "      <td>CÁ MÓ LÀM SẠCH</td>\n",
       "      <td>1.0</td>\n",
       "      <td>1.0</td>\n",
       "      <td>1.0</td>\n",
       "      <td>Min</td>\n",
       "      <td>05-09-2025</td>\n",
       "    </tr>\n",
       "  </tbody>\n",
       "</table>\n",
       "</div>"
      ],
      "text/plain": [
       "         Mã siêu thị               Nhóm hàng            Tên sản phẩm  Số mua  \\\n",
       "1643987        15013       3900-Cá nước ngọt         CÁ LÓC LÀM SẠCH     1.0   \n",
       "1366551         6403  4261-Thủy Sản Chế Biến      CUA ĐỒNG XAY 250GR     2.0   \n",
       "1366733         6725  4261-Thủy Sản Chế Biến      CUA ĐỒNG XAY 250GR     2.0   \n",
       "1366732         6725  4261-Thủy Sản Chế Biến  CANH KHOAI MỠ TÔM 400G     1.0   \n",
       "1366727         6725            3899-Cá biển          CÁ MÓ LÀM SẠCH     1.0   \n",
       "\n",
       "         Quy cách mua  Min chia Trạng thái chia hàng Ngày cập nhật  \n",
       "1643987           1.0       1.0                  Min    05-09-2025  \n",
       "1366551           2.0       2.0                  Min    05-09-2025  \n",
       "1366733           2.0       2.0                  Min    05-09-2025  \n",
       "1366732           0.0       0.0             Trên min    05-09-2025  \n",
       "1366727           1.0       1.0                  Min    05-09-2025  "
      ]
     },
     "execution_count": 4,
     "metadata": {},
     "output_type": "execute_result"
    }
   ],
   "source": [
    "latest_date = get_latest_date(r'C:\\Users\\minhd\\Bách hóa XANH\\DATA\\PARQUET\\report-911')\n",
    "from_date = int(latest_date) - 6\n",
    "df = Read_parquet_folder(r'C:\\Users\\minhd\\Bách hóa XANH\\DATA\\PARQUET\\report-911', from_date = from_date)\n",
    "latest_date = pd.to_datetime(latest_date)\n",
    "df = df[(df['Ngày nhận hàng'] >= latest_date + timedelta(days=2-5)) &\n",
    "        (df['Ngày nhận hàng'] <= latest_date + timedelta(days=3))]\n",
    "\n",
    "df = df[df['Ngành hàng'] == '1254-Thủy Hải Sản Các Loại']\n",
    "df = df[df['Mã PO'].notna()]\n",
    "df = df[['Ngày nhận hàng','Ngành hàng','Nhóm hàng','Tên sản phẩm','Tên siêu thị','Số lượng cần mua','Quy cách mua']]\n",
    "\n",
    "df['Ngày nhận hàng'] = pd.to_datetime(df['Ngày nhận hàng']).dt.date\n",
    "df['Mã sản phẩm'] = df['Tên sản phẩm'].str.extract('(^[0-9]{0,13})').astype('int64')\n",
    "df['Tên sản phẩm'] = df['Tên sản phẩm'].str.extract(r'^[0-9]+-(.*)$')\n",
    "df['Mã siêu thị'] = df['Tên siêu thị'].str.extract('(^[0-9]{0,5})').astype('int64')\n",
    "\n",
    "df = df.sort_values(by=['Ngày nhận hàng'], ascending=False)\n",
    "df = df.drop_duplicates(subset=['Mã siêu thị','Mã sản phẩm'], keep='first')\n",
    "\n",
    "df = df[['Mã siêu thị','Nhóm hàng','Tên sản phẩm','Số lượng cần mua','Quy cách mua']]\n",
    "\n",
    "df['Min chia'] = np.select(\n",
    "    [\n",
    "        (df['Tên sản phẩm'] == 'CÁ NỤC LÀM SẠCH'),\n",
    "        True,\n",
    "    ],\n",
    "    [\n",
    "        3,\n",
    "        df['Quy cách mua']\n",
    "    ]\n",
    ")\n",
    "\n",
    "df['Trạng thái chia hàng'] = np.select(\n",
    "    [\n",
    "        df['Số lượng cần mua'] <= df['Min chia'],\n",
    "        True,\n",
    "    ],\n",
    "    [\n",
    "        'Min',\n",
    "        'Trên min'\n",
    "    ]\n",
    ")\n",
    "\n",
    "df = df.rename(columns={'Số lượng cần mua': 'Số mua'})\n",
    "\n",
    "df['Ngày cập nhật'] = datetime.now().date().strftime('%d-%m-%Y')\n",
    " \n",
    "df.to_parquet(r'D:\\LINE chatbot\\data.parquet', index=False)\n",
    "df.head()"
   ]
  }
 ],
 "metadata": {
  "kernelspec": {
   "display_name": "Python 3",
   "language": "python",
   "name": "python3"
  },
  "language_info": {
   "codemirror_mode": {
    "name": "ipython",
    "version": 3
   },
   "file_extension": ".py",
   "mimetype": "text/x-python",
   "name": "python",
   "nbconvert_exporter": "python",
   "pygments_lexer": "ipython3",
   "version": "3.11.6"
  }
 },
 "nbformat": 4,
 "nbformat_minor": 5
}
