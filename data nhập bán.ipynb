{
 "cells": [
  {
   "cell_type": "markdown",
   "id": "cc182d7b",
   "metadata": {},
   "source": [
    "##### Thư viện và Hàm"
   ]
  },
  {
   "cell_type": "code",
   "execution_count": 1,
   "id": "93fe6644",
   "metadata": {},
   "outputs": [],
   "source": [
    "import pandas as pd\n",
    "from datetime import datetime, timedelta\n",
    "import re\n",
    "import os\n",
    "import numpy as np"
   ]
  },
  {
   "cell_type": "code",
   "execution_count": 2,
   "id": "3c18f38d",
   "metadata": {},
   "outputs": [],
   "source": [
    "#Đọc thư mục chứa file parquet\n",
    "def Read_parquet_folder(path, from_date = 0, to_date = 20300101):\n",
    "    list_file = os.listdir(path)\n",
    "    new_list = []\n",
    "    for i in range(len(list_file)):\n",
    "        if int(list_file[i][-16:-8]) >= from_date and int(list_file[i][-16:-8]) <= to_date:\n",
    "            new_list.append(list_file[i])\n",
    "        \n",
    "    df = pd.DataFrame()\n",
    "    for file in new_list:\n",
    "        file_path = os.path.join(path, file)\n",
    "        df_temp = pd.read_parquet(file_path)\n",
    "        df = pd.concat([df, df_temp], ignore_index=True)\n",
    "    return df"
   ]
  },
  {
   "cell_type": "code",
   "execution_count": 3,
   "id": "8611ff7b",
   "metadata": {},
   "outputs": [],
   "source": [
    "def get_latest_date(folder_path: str, pattern: str = r\"(\\d{8})(?=\\.parquet$)\") -> str:\n",
    "    pat = re.compile(pattern, re.IGNORECASE)\n",
    "    latest_date = None\n",
    "\n",
    "    for filename in os.listdir(folder_path):\n",
    "        if filename.lower().endswith(\".parquet\"):\n",
    "            m = pat.search(filename)\n",
    "            if m:\n",
    "                d = datetime.strptime(m.group(1), \"%Y%m%d\")\n",
    "                if latest_date is None or d > latest_date:\n",
    "                    latest_date = d\n",
    "\n",
    "    if not latest_date:\n",
    "        raise ValueError(\"Không tìm thấy file phù hợp trong thư mục\")\n",
    "\n",
    "    return latest_date.strftime(\"%Y%m%d\")"
   ]
  },
  {
   "cell_type": "markdown",
   "id": "ae801c43",
   "metadata": {},
   "source": [
    "##### Code xử lí"
   ]
  },
  {
   "cell_type": "code",
   "execution_count": 4,
   "id": "cd0ca949",
   "metadata": {},
   "outputs": [
    {
     "name": "stdout",
     "output_type": "stream",
     "text": [
      "2025-09-21 2025-09-27\n"
     ]
    }
   ],
   "source": [
    "now = datetime.now().date()\n",
    "int_now = int(now.strftime(\"%Y%m%d\"))\n",
    "\n",
    "to_date = now + timedelta(days=-1)\n",
    "from_date = to_date + timedelta(days=-6) \n",
    "print(from_date, to_date)"
   ]
  },
  {
   "cell_type": "markdown",
   "id": "b156de84",
   "metadata": {},
   "source": [
    "##### Nhu cầu"
   ]
  },
  {
   "cell_type": "code",
   "execution_count": 5,
   "id": "0f719fcf",
   "metadata": {},
   "outputs": [
    {
     "name": "stdout",
     "output_type": "stream",
     "text": [
      "Dữ liệu đủ 7 ngày\n"
     ]
    }
   ],
   "source": [
    "df_nhucau = Read_parquet_folder(r'C:\\Users\\minhd\\Bách hóa XANH\\DATA\\PARQUET\\report-808', from_date = int_now - 14)\n",
    "df_nhucau = df_nhucau[df_nhucau['Ngành hàng'] == '1254-Thủy Hải Sản Các Loại']\n",
    "df_nhucau['Ngày nhận hàng'] = pd.to_datetime(df_nhucau['Ngày nhận hàng']).dt.date\n",
    "df_nhucau = df_nhucau[(df_nhucau['Ngày nhận hàng'] >= from_date) &\n",
    "                      (df_nhucau['Ngày nhận hàng'] <= to_date)]\n",
    "if df_nhucau['Ngày nhận hàng'].nunique() != 7:\n",
    "    raise ValueError(\"Dữ liệu không đủ 7 ngày\")\n",
    "else:\n",
    "    print(\"Dữ liệu đủ 7 ngày\")\n",
    "    df_nhucau['Mã sản phẩm'] = df_nhucau['Tên sản phẩm'].str.extract('(^[0-9]{0,13})').astype('int64')\n",
    "    df_nhucau['Mã siêu thị'] = df_nhucau['Tên siêu thị'].str.extract('(^[0-9]{0,5})').astype('int64')\n",
    "    df_nhucau = pd.pivot_table(df_nhucau, index=['Mã siêu thị','Mã sản phẩm'], values='Số lượng cần mua', aggfunc='sum').reset_index()\n",
    "    df_nhucau = df_nhucau.rename(columns={'Số lượng cần mua': 'SL nhu cầu'})"
   ]
  },
  {
   "cell_type": "markdown",
   "id": "1186ee65",
   "metadata": {},
   "source": [
    "##### Đơn hàng"
   ]
  },
  {
   "cell_type": "code",
   "execution_count": 6,
   "id": "85f69e11",
   "metadata": {},
   "outputs": [],
   "source": [
    "df_donhang = Read_parquet_folder(r'C:\\Users\\minhd\\Bách hóa XANH\\DATA\\PARQUET\\report-827', from_date = int_now - 10)\n",
    "df_product = pd.read_excel(r'D:\\ALL FRESH\\KHAI BÁO\\Danh sách sản phẩm.xlsx', usecols=['Mã sản phẩm','Mã ngành hàng'])\n",
    "df_donhang = df_donhang.merge(df_product, how='left', on='Mã sản phẩm')\n",
    "df_donhang = df_donhang[df_donhang['Mã ngành hàng'] == 1254]\n",
    "\n",
    "df_donhang['Ngày nhập đến'] = pd.to_datetime(df_donhang['Ngày nhập đến']).dt.date\n",
    "df_donhang = df_donhang[(df_donhang['Ngày nhập đến'] >= from_date) &\n",
    "                      (df_donhang['Ngày nhập đến'] <= to_date)]\n",
    "if df_donhang['Ngày nhập đến'].nunique() != 7:\n",
    "    raise ValueError(\"Dữ liệu không đủ 7 ngày\")\n",
    "else:\n",
    "    df_donhang = pd.pivot_table(df_donhang, index=['Mã siêu thị','Mã sản phẩm'], values='Số lượng', aggfunc='sum').reset_index()\n",
    "    df_donhang = df_donhang.rename(columns={'Số lượng': 'SL lên PO'})"
   ]
  },
  {
   "cell_type": "markdown",
   "id": "184fa0a2",
   "metadata": {},
   "source": [
    "##### Phiếu nhập"
   ]
  },
  {
   "cell_type": "code",
   "execution_count": 7,
   "id": "5f4abffe",
   "metadata": {},
   "outputs": [],
   "source": [
    "df_phieunhap = Read_parquet_folder(r'C:\\Users\\minhd\\Bách hóa XANH\\DATA\\PARQUET\\report-951', from_date = int_now - 10)\n",
    "df_phieunhap = df_phieunhap[df_phieunhap['Ngành hàng'] == 'Thủy Hải Sản Các Loại']\n",
    "\n",
    "df_phieunhap['Ngày nhập'] = pd.to_datetime(df_phieunhap['Ngày nhập']).dt.date\n",
    "df_phieunhap = df_phieunhap[(df_phieunhap['Ngày nhập'] >= from_date) &\n",
    "                      (df_phieunhap['Ngày nhập'] <= to_date)]\n",
    "if df_phieunhap['Ngày nhập'].nunique() != 7:\n",
    "    raise ValueError(\"Dữ liệu không đủ 7 ngày\")\n",
    "else:\n",
    "    df_phieunhap = df_phieunhap[df_phieunhap['Tên hình thức nhập'].isin([\"Nhập chuyển kho\",\"Nhập mua nội bộ\",\"Nhập mua hàng (trong nước)\"])]\n",
    "    df_phieunhap = df_phieunhap[(df_phieunhap['Mã khách hàng'] > 10000) |\n",
    "                                (df_phieunhap['Nhà cung cấp'].str.upper().str.contains('HUB|KHO '))]\n",
    "    df_phieunhap = pd.pivot_table(df_phieunhap, index=['Mã siêu thị','Mã sản phẩm'], values='Số lượng', aggfunc='sum').reset_index()\n",
    "    df_phieunhap = df_phieunhap.rename(columns={'Số lượng': 'SL nhập'})"
   ]
  },
  {
   "cell_type": "markdown",
   "id": "4cecac7e",
   "metadata": {},
   "source": [
    "##### Phiếu xuất"
   ]
  },
  {
   "cell_type": "code",
   "execution_count": 8,
   "id": "f1f9d2ab",
   "metadata": {},
   "outputs": [
    {
     "name": "stderr",
     "output_type": "stream",
     "text": [
      "C:\\Users\\minhd\\AppData\\Local\\Temp\\ipykernel_17120\\2290274444.py:13: FutureWarning: The behavior of DataFrame concatenation with empty or all-NA entries is deprecated. In a future version, this will no longer exclude empty or all-NA columns when determining the result dtypes. To retain the old behavior, exclude the relevant entries before the concat operation.\n",
      "  df = pd.concat([df, df_temp], ignore_index=True)\n"
     ]
    }
   ],
   "source": [
    "df_phieuxuat = Read_parquet_folder(r'C:\\Users\\minhd\\Bách hóa XANH\\DATA\\PARQUET\\report-735', from_date = int_now - 7)\n",
    "df_phieuxuat = df_phieuxuat[df_phieuxuat['Ngành hàng'] == 'Thủy Hải Sản Các Loại']\n",
    "\n",
    "df_phieuxuat['Ngày xuất'] = pd.to_datetime(df_phieuxuat['Ngày xuất']).dt.date\n",
    "df_phieuxuat = df_phieuxuat[(df_phieuxuat['Ngày xuất'] >= from_date) &\n",
    "                      (df_phieuxuat['Ngày xuất'] <= to_date)]\n",
    "if df_phieuxuat['Ngày xuất'].nunique() != 7:\n",
    "    raise ValueError(\"Dữ liệu không đủ 7 ngày\")\n",
    "else:\n",
    "    df_phieuxuat = df_phieuxuat[['Ngày xuất','Mã siêu thị','Mã sản phẩm','Tên sản phẩm','Số lượng','Giá bán','giá bán nguyên giá','Doanh thu theo ngành hàng','Mã hình thức xuất','Ghi chú.1']]\n",
    "\n",
    "    # region Số lượng xuất\n",
    "    rules = [\n",
    "        (\n",
    "            'SL xuất share hàng',\n",
    "            (df_phieuxuat['Ghi chú.1'].eq('Yêu Cầu Xin Hàng(MWG)(duyệt yc mới MWG)'))\n",
    "        ),\n",
    "        (\n",
    "            'SL xuất kho chênh lệch',\n",
    "            (df_phieuxuat['Mã hình thức xuất'].isin([17]))\n",
    "        ),\n",
    "        (\n",
    "            'SL xuất bán',\n",
    "            (df_phieuxuat['Mã hình thức xuất'].isin([3, 4, 1903]))\n",
    "        ),\n",
    "        (\n",
    "            'SL xuất bán NG',\n",
    "            (df_phieuxuat['Mã hình thức xuất'].isin([3, 4, 1903])) &\n",
    "            (df_phieuxuat['Giá bán'] >= df_phieuxuat['giá bán nguyên giá'])\n",
    "        )\n",
    "    ]\n",
    "\n",
    "    for new_col, mask in rules:\n",
    "        df_phieuxuat[new_col] = np.where(mask, df_phieuxuat['Số lượng'], 0)\n",
    "    # endregion\n",
    "\n",
    "    df_phieuxuat = pd.pivot_table(df_phieuxuat, index=['Mã siêu thị','Mã sản phẩm'],\n",
    "                                  values=['SL xuất share hàng','SL xuất kho chênh lệch','SL xuất bán','SL xuất bán NG','Doanh thu theo ngành hàng'],\n",
    "                                  aggfunc='sum').reset_index()\n",
    "    df_phieuxuat.rename(columns={'Doanh thu theo ngành hàng': 'Doanh thu'}, inplace=True)"
   ]
  },
  {
   "cell_type": "code",
   "execution_count": 9,
   "id": "74a9986c",
   "metadata": {},
   "outputs": [
    {
     "name": "stderr",
     "output_type": "stream",
     "text": [
      "C:\\Users\\minhd\\AppData\\Local\\Temp\\ipykernel_17120\\3329486866.py:21: FutureWarning: The provided callable <built-in function sum> is currently using DataFrameGroupBy.sum. In a future version of pandas, the provided callable will be used directly. To keep current behavior pass the string \"sum\" instead.\n",
      "  df = pd.pivot_table(df, index=['Ngành hàng','Nhóm hàng','Gom code','Mã siêu thị'],\n"
     ]
    },
    {
     "data": {
      "application/vnd.microsoft.datawrangler.viewer.v0+json": {
       "columns": [
        {
         "name": "index",
         "rawType": "int64",
         "type": "integer"
        },
        {
         "name": "Ngành hàng",
         "rawType": "object",
         "type": "string"
        },
        {
         "name": "Nhóm hàng",
         "rawType": "object",
         "type": "string"
        },
        {
         "name": "Nhóm sản phẩm",
         "rawType": "object",
         "type": "string"
        },
        {
         "name": "Mã siêu thị",
         "rawType": "int64",
         "type": "integer"
        },
        {
         "name": "PO",
         "rawType": "float64",
         "type": "float"
        },
        {
         "name": "Nhu cầu",
         "rawType": "float64",
         "type": "float"
        },
        {
         "name": "Nhập",
         "rawType": "float64",
         "type": "float"
        },
        {
         "name": "Bán",
         "rawType": "float64",
         "type": "float"
        },
        {
         "name": "% Nhập/PO",
         "rawType": "object",
         "type": "string"
        },
        {
         "name": "% Bán/Nhập",
         "rawType": "object",
         "type": "string"
        },
        {
         "name": "Từ ngày",
         "rawType": "object",
         "type": "string"
        },
        {
         "name": "Đến ngày",
         "rawType": "object",
         "type": "string"
        }
       ],
       "ref": "676bf6a9-92b8-440f-ac99-0457b3289277",
       "rows": [
        [
         "2935",
         "Thủy Hải Sản Các Loại",
         "CÁ - THỦY HẢI SẢN ĐÓNG GÓI",
         "SỨA ĂN LIỀN",
         "4340",
         "16.8",
         "16.8",
         "16.8",
         "4.9",
         "100%",
         "29%",
         "21/09/2025",
         "27/09/2025"
        ],
        [
         "1989",
         "Thủy Hải Sản Các Loại",
         "CÁ - THỦY HẢI SẢN ĐÓNG GÓI",
         "SỨA CẮT SỢI",
         "4484",
         "13.3",
         "2.8",
         "14.0",
         "10.5",
         "105%",
         "75%",
         "21/09/2025",
         "27/09/2025"
        ],
        [
         "2066",
         "Thủy Hải Sản Các Loại",
         "CÁ - THỦY HẢI SẢN ĐÓNG GÓI",
         "SỨA CẮT SỢI",
         "4783",
         "13.3",
         "13.3",
         "13.0",
         "11.6",
         "97%",
         "89%",
         "21/09/2025",
         "27/09/2025"
        ],
        [
         "2053",
         "Thủy Hải Sản Các Loại",
         "CÁ - THỦY HẢI SẢN ĐÓNG GÓI",
         "SỨA CẮT SỢI",
         "4749",
         "12.6",
         "12.6",
         "12.6",
         "8.0",
         "100%",
         "64%",
         "21/09/2025",
         "27/09/2025"
        ],
        [
         "2342",
         "Thủy Hải Sản Các Loại",
         "CÁ - THỦY HẢI SẢN ĐÓNG GÓI",
         "SỨA CẮT SỢI",
         "6520",
         "12.6",
         "12.6",
         "12.6",
         "10.2",
         "100%",
         "81%",
         "21/09/2025",
         "27/09/2025"
        ]
       ],
       "shape": {
        "columns": 12,
        "rows": 5
       }
      },
      "text/html": [
       "<div>\n",
       "<style scoped>\n",
       "    .dataframe tbody tr th:only-of-type {\n",
       "        vertical-align: middle;\n",
       "    }\n",
       "\n",
       "    .dataframe tbody tr th {\n",
       "        vertical-align: top;\n",
       "    }\n",
       "\n",
       "    .dataframe thead th {\n",
       "        text-align: right;\n",
       "    }\n",
       "</style>\n",
       "<table border=\"1\" class=\"dataframe\">\n",
       "  <thead>\n",
       "    <tr style=\"text-align: right;\">\n",
       "      <th></th>\n",
       "      <th>Ngành hàng</th>\n",
       "      <th>Nhóm hàng</th>\n",
       "      <th>Nhóm sản phẩm</th>\n",
       "      <th>Mã siêu thị</th>\n",
       "      <th>PO</th>\n",
       "      <th>Nhu cầu</th>\n",
       "      <th>Nhập</th>\n",
       "      <th>Bán</th>\n",
       "      <th>% Nhập/PO</th>\n",
       "      <th>% Bán/Nhập</th>\n",
       "      <th>Từ ngày</th>\n",
       "      <th>Đến ngày</th>\n",
       "    </tr>\n",
       "  </thead>\n",
       "  <tbody>\n",
       "    <tr>\n",
       "      <th>2935</th>\n",
       "      <td>Thủy Hải Sản Các Loại</td>\n",
       "      <td>CÁ - THỦY HẢI SẢN ĐÓNG GÓI</td>\n",
       "      <td>SỨA ĂN LIỀN</td>\n",
       "      <td>4340</td>\n",
       "      <td>16.8</td>\n",
       "      <td>16.8</td>\n",
       "      <td>16.8</td>\n",
       "      <td>4.9</td>\n",
       "      <td>100%</td>\n",
       "      <td>29%</td>\n",
       "      <td>21/09/2025</td>\n",
       "      <td>27/09/2025</td>\n",
       "    </tr>\n",
       "    <tr>\n",
       "      <th>1989</th>\n",
       "      <td>Thủy Hải Sản Các Loại</td>\n",
       "      <td>CÁ - THỦY HẢI SẢN ĐÓNG GÓI</td>\n",
       "      <td>SỨA CẮT SỢI</td>\n",
       "      <td>4484</td>\n",
       "      <td>13.3</td>\n",
       "      <td>2.8</td>\n",
       "      <td>14.0</td>\n",
       "      <td>10.5</td>\n",
       "      <td>105%</td>\n",
       "      <td>75%</td>\n",
       "      <td>21/09/2025</td>\n",
       "      <td>27/09/2025</td>\n",
       "    </tr>\n",
       "    <tr>\n",
       "      <th>2066</th>\n",
       "      <td>Thủy Hải Sản Các Loại</td>\n",
       "      <td>CÁ - THỦY HẢI SẢN ĐÓNG GÓI</td>\n",
       "      <td>SỨA CẮT SỢI</td>\n",
       "      <td>4783</td>\n",
       "      <td>13.3</td>\n",
       "      <td>13.3</td>\n",
       "      <td>13.0</td>\n",
       "      <td>11.6</td>\n",
       "      <td>97%</td>\n",
       "      <td>89%</td>\n",
       "      <td>21/09/2025</td>\n",
       "      <td>27/09/2025</td>\n",
       "    </tr>\n",
       "    <tr>\n",
       "      <th>2053</th>\n",
       "      <td>Thủy Hải Sản Các Loại</td>\n",
       "      <td>CÁ - THỦY HẢI SẢN ĐÓNG GÓI</td>\n",
       "      <td>SỨA CẮT SỢI</td>\n",
       "      <td>4749</td>\n",
       "      <td>12.6</td>\n",
       "      <td>12.6</td>\n",
       "      <td>12.6</td>\n",
       "      <td>8.0</td>\n",
       "      <td>100%</td>\n",
       "      <td>64%</td>\n",
       "      <td>21/09/2025</td>\n",
       "      <td>27/09/2025</td>\n",
       "    </tr>\n",
       "    <tr>\n",
       "      <th>2342</th>\n",
       "      <td>Thủy Hải Sản Các Loại</td>\n",
       "      <td>CÁ - THỦY HẢI SẢN ĐÓNG GÓI</td>\n",
       "      <td>SỨA CẮT SỢI</td>\n",
       "      <td>6520</td>\n",
       "      <td>12.6</td>\n",
       "      <td>12.6</td>\n",
       "      <td>12.6</td>\n",
       "      <td>10.2</td>\n",
       "      <td>100%</td>\n",
       "      <td>81%</td>\n",
       "      <td>21/09/2025</td>\n",
       "      <td>27/09/2025</td>\n",
       "    </tr>\n",
       "  </tbody>\n",
       "</table>\n",
       "</div>"
      ],
      "text/plain": [
       "                 Ngành hàng                   Nhóm hàng Nhóm sản phẩm  \\\n",
       "2935  Thủy Hải Sản Các Loại  CÁ - THỦY HẢI SẢN ĐÓNG GÓI   SỨA ĂN LIỀN   \n",
       "1989  Thủy Hải Sản Các Loại  CÁ - THỦY HẢI SẢN ĐÓNG GÓI   SỨA CẮT SỢI   \n",
       "2066  Thủy Hải Sản Các Loại  CÁ - THỦY HẢI SẢN ĐÓNG GÓI   SỨA CẮT SỢI   \n",
       "2053  Thủy Hải Sản Các Loại  CÁ - THỦY HẢI SẢN ĐÓNG GÓI   SỨA CẮT SỢI   \n",
       "2342  Thủy Hải Sản Các Loại  CÁ - THỦY HẢI SẢN ĐÓNG GÓI   SỨA CẮT SỢI   \n",
       "\n",
       "      Mã siêu thị    PO  Nhu cầu  Nhập   Bán % Nhập/PO % Bán/Nhập     Từ ngày  \\\n",
       "2935         4340  16.8     16.8  16.8   4.9      100%        29%  21/09/2025   \n",
       "1989         4484  13.3      2.8  14.0  10.5      105%        75%  21/09/2025   \n",
       "2066         4783  13.3     13.3  13.0  11.6       97%        89%  21/09/2025   \n",
       "2053         4749  12.6     12.6  12.6   8.0      100%        64%  21/09/2025   \n",
       "2342         6520  12.6     12.6  12.6  10.2      100%        81%  21/09/2025   \n",
       "\n",
       "        Đến ngày  \n",
       "2935  27/09/2025  \n",
       "1989  27/09/2025  \n",
       "2066  27/09/2025  \n",
       "2053  27/09/2025  \n",
       "2342  27/09/2025  "
      ]
     },
     "execution_count": 9,
     "metadata": {},
     "output_type": "execute_result"
    }
   ],
   "source": [
    "df = pd.merge(df_nhucau, df_donhang, how='outer', on=['Mã siêu thị','Mã sản phẩm'])\n",
    "df = pd.merge(df, df_phieunhap, how='outer', on=['Mã siêu thị','Mã sản phẩm'])\n",
    "df = pd.merge(df, df_phieuxuat, how='outer', on=['Mã siêu thị','Mã sản phẩm'])\n",
    "df_product = pd.read_excel(r'D:\\ALL FRESH\\KHAI BÁO\\Danh sách sản phẩm.xlsx',\n",
    "                           usecols=['Mã sản phẩm','Ngành hàng','Nhóm hàng','Tên sản phẩm','Trọng lượng (kg)'])\n",
    "df_product['Trọng lượng (kg)'] = df_product['Trọng lượng (kg)'].replace(0, 1)\n",
    "df_gomcode = pd.read_excel(r'D:\\ALL FRESH\\KHAI BÁO\\Danh sách sản phẩm.xlsx', sheet_name='Gom code',\n",
    "                           usecols=['Mã sản phẩm','Gom code'])\n",
    "df = df.merge(df_product, how='left', on='Mã sản phẩm')\n",
    "df = df.merge(df_gomcode, how='left', on='Mã sản phẩm')\n",
    "df['SL nhu cầu (KG)'] = (df['SL nhu cầu'] * df['Trọng lượng (kg)'])\n",
    "df['SL lên PO (KG)'] = (df['SL lên PO'] * df['Trọng lượng (kg)'])\n",
    "df['SL nhập (KG)'] = (df['SL nhập'] * df['Trọng lượng (kg)'])\n",
    "df['SL xuất share hàng (KG)'] = (df['SL xuất share hàng'] * df['Trọng lượng (kg)'])\n",
    "df['SL xuất kho chênh lệch (KG)'] = (df['SL xuất kho chênh lệch'] * df['Trọng lượng (kg)'])\n",
    "df['SL xuất bán (KG)'] = (df['SL xuất bán'] * df['Trọng lượng (kg)'])\n",
    "df['SL xuất bán NG (KG)'] = (df['SL xuất bán NG'] * df['Trọng lượng (kg)'])\n",
    "\n",
    "df['SL thực nhập (KG)'] = df['SL nhập (KG)'] - df['SL xuất kho chênh lệch (KG)'] - df['SL xuất share hàng (KG)']\n",
    "df = df[['Ngành hàng','Nhóm hàng','Gom code','Tên sản phẩm','Mã siêu thị','SL nhu cầu (KG)','SL lên PO (KG)','SL thực nhập (KG)','SL xuất bán (KG)']]\n",
    "df = pd.pivot_table(df, index=['Ngành hàng','Nhóm hàng','Gom code','Mã siêu thị'],\n",
    "                    values=['SL nhu cầu (KG)','SL lên PO (KG)','SL thực nhập (KG)','SL xuất bán (KG)'],\n",
    "                    aggfunc=sum).reset_index()\n",
    "\n",
    "df = df[df['SL lên PO (KG)'] > 0]\n",
    "df = df[df['SL thực nhập (KG)'] > 0]\n",
    "df['Tỉ lệ nhập/PO'] = ((df['SL thực nhập (KG)'] / df['SL lên PO (KG)']) * 100).round(0).astype(int).astype(str) + '%'\n",
    "df['Tỉ lệ bán/nhập'] = ((df['SL xuất bán (KG)'] / df['SL thực nhập (KG)']) * 100).round(0).astype(int).astype(str) + '%'\n",
    "df = df.sort_values(by=['Nhóm hàng','SL thực nhập (KG)'], ascending=[True,False])\n",
    "df = df.rename(columns={'Gom code': 'Nhóm sản phẩm'})\n",
    "df['Từ ngày'] = from_date.strftime(\"%d/%m/%Y\")\n",
    "df['Đến ngày'] = to_date.strftime(\"%d/%m/%Y\")\n",
    "\n",
    "df = df.rename(columns={'SL nhu cầu (KG)': 'Nhu cầu',\n",
    "                        'SL lên PO (KG)': 'PO',\n",
    "                        'SL thực nhập (KG)': 'Nhập',\n",
    "                        'SL xuất bán (KG)': 'Bán',\n",
    "                        'Tỉ lệ nhập/PO': '% Nhập/PO',\n",
    "                        'Tỉ lệ bán/nhập': '% Bán/Nhập'\n",
    "                        }\n",
    ")\n",
    "df['Nhu cầu'] = df['Nhu cầu'].round(1)\n",
    "df['PO'] = df['PO'].round(1)\n",
    "df['Nhập'] = df['Nhập'].round(1)\n",
    "df['Bán'] = df['Bán'].round(1)\n",
    "\n",
    "df.head()"
   ]
  },
  {
   "cell_type": "markdown",
   "id": "4e482e10",
   "metadata": {},
   "source": [
    "##### Gộp dữ liệu số mua hiện tại"
   ]
  },
  {
   "cell_type": "code",
   "execution_count": 10,
   "id": "3aa099f2",
   "metadata": {},
   "outputs": [
    {
     "data": {
      "application/vnd.microsoft.datawrangler.viewer.v0+json": {
       "columns": [
        {
         "name": "index",
         "rawType": "int64",
         "type": "integer"
        },
        {
         "name": "Ngành hàng",
         "rawType": "object",
         "type": "string"
        },
        {
         "name": "Nhóm hàng",
         "rawType": "object",
         "type": "string"
        },
        {
         "name": "Nhóm sản phẩm",
         "rawType": "object",
         "type": "string"
        },
        {
         "name": "Mã siêu thị",
         "rawType": "int64",
         "type": "integer"
        },
        {
         "name": "PO",
         "rawType": "float64",
         "type": "float"
        },
        {
         "name": "Nhu cầu",
         "rawType": "float64",
         "type": "float"
        },
        {
         "name": "Nhập",
         "rawType": "float64",
         "type": "float"
        },
        {
         "name": "Bán",
         "rawType": "float64",
         "type": "float"
        },
        {
         "name": "% Nhập/PO",
         "rawType": "object",
         "type": "string"
        },
        {
         "name": "% Bán/Nhập",
         "rawType": "object",
         "type": "string"
        },
        {
         "name": "Từ ngày",
         "rawType": "object",
         "type": "string"
        },
        {
         "name": "Đến ngày",
         "rawType": "object",
         "type": "string"
        },
        {
         "name": "Số chia hiện tại",
         "rawType": "object",
         "type": "string"
        }
       ],
       "ref": "c121aa18-d4ac-40b9-acd5-05a40aecda97",
       "rows": [
        [
         "0",
         "Thủy Hải Sản Các Loại",
         "CÁ - THỦY HẢI SẢN ĐÓNG GÓI",
         "SỨA ĂN LIỀN",
         "4340",
         "16.8",
         "16.8",
         "16.8",
         "4.9",
         "100%",
         "29%",
         "21/09/2025",
         "27/09/2025",
         "Sức bán"
        ],
        [
         "1",
         "Thủy Hải Sản Các Loại",
         "CÁ - THỦY HẢI SẢN ĐÓNG GÓI",
         "SỨA CẮT SỢI",
         "4484",
         "13.3",
         "2.8",
         "14.0",
         "10.5",
         "105%",
         "75%",
         "21/09/2025",
         "27/09/2025",
         "Min"
        ],
        [
         "2",
         "Thủy Hải Sản Các Loại",
         "CÁ - THỦY HẢI SẢN ĐÓNG GÓI",
         "SỨA CẮT SỢI",
         "4783",
         "13.3",
         "13.3",
         "13.0",
         "11.6",
         "97%",
         "89%",
         "21/09/2025",
         "27/09/2025",
         "Sức bán"
        ],
        [
         "3",
         "Thủy Hải Sản Các Loại",
         "CÁ - THỦY HẢI SẢN ĐÓNG GÓI",
         "SỨA CẮT SỢI",
         "4749",
         "12.6",
         "12.6",
         "12.6",
         "8.0",
         "100%",
         "64%",
         "21/09/2025",
         "27/09/2025",
         "Min"
        ],
        [
         "4",
         "Thủy Hải Sản Các Loại",
         "CÁ - THỦY HẢI SẢN ĐÓNG GÓI",
         "SỨA CẮT SỢI",
         "6520",
         "12.6",
         "12.6",
         "12.6",
         "10.2",
         "100%",
         "81%",
         "21/09/2025",
         "27/09/2025",
         "Sức bán"
        ]
       ],
       "shape": {
        "columns": 13,
        "rows": 5
       }
      },
      "text/html": [
       "<div>\n",
       "<style scoped>\n",
       "    .dataframe tbody tr th:only-of-type {\n",
       "        vertical-align: middle;\n",
       "    }\n",
       "\n",
       "    .dataframe tbody tr th {\n",
       "        vertical-align: top;\n",
       "    }\n",
       "\n",
       "    .dataframe thead th {\n",
       "        text-align: right;\n",
       "    }\n",
       "</style>\n",
       "<table border=\"1\" class=\"dataframe\">\n",
       "  <thead>\n",
       "    <tr style=\"text-align: right;\">\n",
       "      <th></th>\n",
       "      <th>Ngành hàng</th>\n",
       "      <th>Nhóm hàng</th>\n",
       "      <th>Nhóm sản phẩm</th>\n",
       "      <th>Mã siêu thị</th>\n",
       "      <th>PO</th>\n",
       "      <th>Nhu cầu</th>\n",
       "      <th>Nhập</th>\n",
       "      <th>Bán</th>\n",
       "      <th>% Nhập/PO</th>\n",
       "      <th>% Bán/Nhập</th>\n",
       "      <th>Từ ngày</th>\n",
       "      <th>Đến ngày</th>\n",
       "      <th>Số chia hiện tại</th>\n",
       "    </tr>\n",
       "  </thead>\n",
       "  <tbody>\n",
       "    <tr>\n",
       "      <th>0</th>\n",
       "      <td>Thủy Hải Sản Các Loại</td>\n",
       "      <td>CÁ - THỦY HẢI SẢN ĐÓNG GÓI</td>\n",
       "      <td>SỨA ĂN LIỀN</td>\n",
       "      <td>4340</td>\n",
       "      <td>16.8</td>\n",
       "      <td>16.8</td>\n",
       "      <td>16.8</td>\n",
       "      <td>4.9</td>\n",
       "      <td>100%</td>\n",
       "      <td>29%</td>\n",
       "      <td>21/09/2025</td>\n",
       "      <td>27/09/2025</td>\n",
       "      <td>Sức bán</td>\n",
       "    </tr>\n",
       "    <tr>\n",
       "      <th>1</th>\n",
       "      <td>Thủy Hải Sản Các Loại</td>\n",
       "      <td>CÁ - THỦY HẢI SẢN ĐÓNG GÓI</td>\n",
       "      <td>SỨA CẮT SỢI</td>\n",
       "      <td>4484</td>\n",
       "      <td>13.3</td>\n",
       "      <td>2.8</td>\n",
       "      <td>14.0</td>\n",
       "      <td>10.5</td>\n",
       "      <td>105%</td>\n",
       "      <td>75%</td>\n",
       "      <td>21/09/2025</td>\n",
       "      <td>27/09/2025</td>\n",
       "      <td>Min</td>\n",
       "    </tr>\n",
       "    <tr>\n",
       "      <th>2</th>\n",
       "      <td>Thủy Hải Sản Các Loại</td>\n",
       "      <td>CÁ - THỦY HẢI SẢN ĐÓNG GÓI</td>\n",
       "      <td>SỨA CẮT SỢI</td>\n",
       "      <td>4783</td>\n",
       "      <td>13.3</td>\n",
       "      <td>13.3</td>\n",
       "      <td>13.0</td>\n",
       "      <td>11.6</td>\n",
       "      <td>97%</td>\n",
       "      <td>89%</td>\n",
       "      <td>21/09/2025</td>\n",
       "      <td>27/09/2025</td>\n",
       "      <td>Sức bán</td>\n",
       "    </tr>\n",
       "    <tr>\n",
       "      <th>3</th>\n",
       "      <td>Thủy Hải Sản Các Loại</td>\n",
       "      <td>CÁ - THỦY HẢI SẢN ĐÓNG GÓI</td>\n",
       "      <td>SỨA CẮT SỢI</td>\n",
       "      <td>4749</td>\n",
       "      <td>12.6</td>\n",
       "      <td>12.6</td>\n",
       "      <td>12.6</td>\n",
       "      <td>8.0</td>\n",
       "      <td>100%</td>\n",
       "      <td>64%</td>\n",
       "      <td>21/09/2025</td>\n",
       "      <td>27/09/2025</td>\n",
       "      <td>Min</td>\n",
       "    </tr>\n",
       "    <tr>\n",
       "      <th>4</th>\n",
       "      <td>Thủy Hải Sản Các Loại</td>\n",
       "      <td>CÁ - THỦY HẢI SẢN ĐÓNG GÓI</td>\n",
       "      <td>SỨA CẮT SỢI</td>\n",
       "      <td>6520</td>\n",
       "      <td>12.6</td>\n",
       "      <td>12.6</td>\n",
       "      <td>12.6</td>\n",
       "      <td>10.2</td>\n",
       "      <td>100%</td>\n",
       "      <td>81%</td>\n",
       "      <td>21/09/2025</td>\n",
       "      <td>27/09/2025</td>\n",
       "      <td>Sức bán</td>\n",
       "    </tr>\n",
       "  </tbody>\n",
       "</table>\n",
       "</div>"
      ],
      "text/plain": [
       "              Ngành hàng                   Nhóm hàng Nhóm sản phẩm  \\\n",
       "0  Thủy Hải Sản Các Loại  CÁ - THỦY HẢI SẢN ĐÓNG GÓI   SỨA ĂN LIỀN   \n",
       "1  Thủy Hải Sản Các Loại  CÁ - THỦY HẢI SẢN ĐÓNG GÓI   SỨA CẮT SỢI   \n",
       "2  Thủy Hải Sản Các Loại  CÁ - THỦY HẢI SẢN ĐÓNG GÓI   SỨA CẮT SỢI   \n",
       "3  Thủy Hải Sản Các Loại  CÁ - THỦY HẢI SẢN ĐÓNG GÓI   SỨA CẮT SỢI   \n",
       "4  Thủy Hải Sản Các Loại  CÁ - THỦY HẢI SẢN ĐÓNG GÓI   SỨA CẮT SỢI   \n",
       "\n",
       "   Mã siêu thị    PO  Nhu cầu  Nhập   Bán % Nhập/PO % Bán/Nhập     Từ ngày  \\\n",
       "0         4340  16.8     16.8  16.8   4.9      100%        29%  21/09/2025   \n",
       "1         4484  13.3      2.8  14.0  10.5      105%        75%  21/09/2025   \n",
       "2         4783  13.3     13.3  13.0  11.6       97%        89%  21/09/2025   \n",
       "3         4749  12.6     12.6  12.6   8.0      100%        64%  21/09/2025   \n",
       "4         6520  12.6     12.6  12.6  10.2      100%        81%  21/09/2025   \n",
       "\n",
       "     Đến ngày Số chia hiện tại  \n",
       "0  27/09/2025          Sức bán  \n",
       "1  27/09/2025              Min  \n",
       "2  27/09/2025          Sức bán  \n",
       "3  27/09/2025              Min  \n",
       "4  27/09/2025          Sức bán  "
      ]
     },
     "execution_count": 10,
     "metadata": {},
     "output_type": "execute_result"
    }
   ],
   "source": [
    "df_muadeu = pd.read_parquet(r'D:\\LINE chatbot\\data.parquet')\n",
    "df_muadeu = df_muadeu[['Tên sản phẩm','Mã siêu thị','Trạng thái chia hàng']]\n",
    "df_gomcode = pd.read_excel(r'D:\\ALL FRESH\\KHAI BÁO\\Danh sách sản phẩm.xlsx', usecols=['Tên sản phẩm','Gom code'], sheet_name='Gom code')\n",
    "df_muadeu = df_muadeu.merge(df_gomcode, how='left', on='Tên sản phẩm')\n",
    "df_muadeu = df_muadeu.rename(columns={'Trạng thái chia hàng': 'Số chia hiện tại', 'Gom code': 'Nhóm sản phẩm'})\n",
    "df = df.merge(df_muadeu[['Mã siêu thị','Nhóm sản phẩm','Số chia hiện tại']], how='left', on=['Mã siêu thị','Nhóm sản phẩm'])\n",
    "df.head()"
   ]
  },
  {
   "cell_type": "code",
   "execution_count": 11,
   "id": "18715fb7",
   "metadata": {},
   "outputs": [],
   "source": [
    "df.reset_index().to_parquet('data_nhapban.parquet')"
   ]
  }
 ],
 "metadata": {
  "kernelspec": {
   "display_name": "Python 3",
   "language": "python",
   "name": "python3"
  },
  "language_info": {
   "codemirror_mode": {
    "name": "ipython",
    "version": 3
   },
   "file_extension": ".py",
   "mimetype": "text/x-python",
   "name": "python",
   "nbconvert_exporter": "python",
   "pygments_lexer": "ipython3",
   "version": "3.11.6"
  }
 },
 "nbformat": 4,
 "nbformat_minor": 5
}
